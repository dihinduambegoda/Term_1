{
 "cells": [
  {
   "cell_type": "code",
   "execution_count": 9,
   "id": "31369130",
   "metadata": {},
   "outputs": [
    {
     "name": "stdout",
     "output_type": "stream",
     "text": [
      "233168\n"
     ]
    }
   ],
   "source": [
    "#Question 1\n",
    "def multiplies_of_3_and_5(number):\n",
    "    total = 0\n",
    "    for i in range(number):\n",
    "        if i % 3 == 0 or i % 5 == 0:\n",
    "            total += i\n",
    "    return total\n",
    "\n",
    "print(multiplies_of_3_and_5(1000))"
   ]
  },
  {
   "cell_type": "code",
   "execution_count": 10,
   "id": "0efc3174",
   "metadata": {},
   "outputs": [
    {
     "name": "stdout",
     "output_type": "stream",
     "text": [
      "4613732\n"
     ]
    }
   ],
   "source": [
    "# Question 2\n",
    "def sum_of_even_fibonacci(limit):\n",
    "    a, b = 0, 1\n",
    "    total = 0\n",
    "    while b < limit:\n",
    "        if b % 2 == 0:\n",
    "            total += b\n",
    "        a, b = b, a + b\n",
    "    return total\n",
    "\n",
    "print(sum_of_even_fibonacci(4000000))"
   ]
  },
  {
   "cell_type": "code",
   "execution_count": 11,
   "id": "f18bd4e0",
   "metadata": {},
   "outputs": [
    {
     "name": "stdout",
     "output_type": "stream",
     "text": [
      "6857\n"
     ]
    }
   ],
   "source": [
    "# Question 3\n",
    "def largest_prime_factor(n):\n",
    "    i = 2\n",
    "    while i * i <= n:\n",
    "        if n % i:\n",
    "            i += 1\n",
    "        else:\n",
    "            n //= i\n",
    "    return n    \n",
    "\n",
    "print(largest_prime_factor(600851475143))"
   ]
  },
  {
   "cell_type": "code",
   "execution_count": 12,
   "id": "831fed28",
   "metadata": {},
   "outputs": [
    {
     "name": "stdout",
     "output_type": "stream",
     "text": [
      "906609\n"
     ]
    }
   ],
   "source": [
    "#Question 4\n",
    "def largest_palindrome_product():\n",
    "    max_palindrome = 0\n",
    "    for i in range(100, 1000):\n",
    "        for j in range(100, 1000):\n",
    "            product = i * j\n",
    "            if str(product) == str(product)[::-1] and product > max_palindrome:\n",
    "                max_palindrome = product\n",
    "    return max_palindrome\n",
    "\n",
    "print(largest_palindrome_product())"
   ]
  },
  {
   "cell_type": "code",
   "execution_count": 13,
   "id": "25108dc6",
   "metadata": {},
   "outputs": [
    {
     "name": "stdout",
     "output_type": "stream",
     "text": [
      "232792560\n"
     ]
    }
   ],
   "source": [
    "#Question 5\n",
    "def smallest_multiple(n):\n",
    "    def gcd(a, b):\n",
    "        while b:\n",
    "            a, b = b, a % b\n",
    "        return a\n",
    "\n",
    "    def lcm(a, b):\n",
    "        return a * b // gcd(a, b)\n",
    "\n",
    "    multiple = 1\n",
    "    for i in range(2, n + 1):\n",
    "        multiple = lcm(multiple, i)\n",
    "    return multiple \n",
    "\n",
    "print(smallest_multiple(20))"
   ]
  },
  {
   "cell_type": "code",
   "execution_count": 14,
   "id": "546f2403",
   "metadata": {},
   "outputs": [
    {
     "name": "stdout",
     "output_type": "stream",
     "text": [
      "25164150\n"
     ]
    }
   ],
   "source": [
    "#Question 6\n",
    "def sum_square_difference(n):\n",
    "    sum_of_squares = sum(i * i for i in range(1, n + 1))\n",
    "    square_of_sum = sum(range(1, n + 1)) ** 2\n",
    "    return square_of_sum - sum_of_squares\n",
    "\n",
    "print(sum_square_difference(100))"
   ]
  },
  {
   "cell_type": "code",
   "execution_count": 15,
   "id": "c0c00502",
   "metadata": {},
   "outputs": [
    {
     "name": "stdout",
     "output_type": "stream",
     "text": [
      "104743\n"
     ]
    }
   ],
   "source": [
    "#Question 7\n",
    "def nth_prime(n):\n",
    "    count = 0\n",
    "    num = 1\n",
    "    while count < n:\n",
    "        num += 1\n",
    "        for i in range(2, int(num**0.5) + 1):\n",
    "            if num % i == 0:\n",
    "                break\n",
    "        else:\n",
    "            count += 1\n",
    "    return num\n",
    "\n",
    "print(nth_prime(10001))"
   ]
  },
  {
   "cell_type": "code",
   "execution_count": 16,
   "id": "94d5697a",
   "metadata": {},
   "outputs": [
    {
     "name": "stdout",
     "output_type": "stream",
     "text": [
      "23514624000\n"
     ]
    }
   ],
   "source": [
    "#Question 8\n",
    "def largest_product_in_series(series, n):\n",
    "    max_product = 0\n",
    "    for i in range(len(series) - n + 1):\n",
    "        product = 1\n",
    "        for j in range(n):\n",
    "            product *= int(series[i + j])\n",
    "        if product > max_product:\n",
    "            max_product = product\n",
    "    return max_product\n",
    "\n",
    "series = (\"7316717653133062491922511967442657474235534919493496983520312774506326239578318016984801869478851843858615607891129494954595017379583319528532088055111254069874715852386305071569329096329522744304355766896648950445244523161731856403098711121722383113622298934233803081353362766142828064444866452387493035890729629049156044077239071381051585930796086670172427121883998797908792274921901699720888093776657273330010533678812202354218097512545405947522435258490771167055601360483958644670632441572215539753697817977846174064955149290862569321978468622482839722413756570560574902614079729686524145351004748216637048440319989000889524345065854122758866688116427171479924442928230863465674813919123162824586178664583591245665294765456828489128831426076900422421902267105562632111110937054421750694165896040807198403850962455444362981230987879927244284909188845801561660979191338754992005240636899125607176060588611646710940507754100225698315520005593572972571636269561882670428252483600823257530420752963450\")\n",
    "print(largest_product_in_series(series, 13))"
   ]
  },
  {
   "cell_type": "code",
   "execution_count": 17,
   "id": "bac5169d",
   "metadata": {},
   "outputs": [
    {
     "name": "stdout",
     "output_type": "stream",
     "text": [
      "31875000\n"
     ]
    }
   ],
   "source": [
    "#Question 9\n",
    "def special_pythagorean_triplet(sum_total):\n",
    "    for a in range(1, sum_total):\n",
    "        for b in range(a, sum_total - a):\n",
    "            c = sum_total - a - b\n",
    "            if a * a + b * b == c * c:\n",
    "                return a * b * c\n",
    "    return None \n",
    "\n",
    "print(special_pythagorean_triplet(1000))"
   ]
  },
  {
   "cell_type": "code",
   "execution_count": 18,
   "id": "43d7f11e",
   "metadata": {},
   "outputs": [
    {
     "name": "stdout",
     "output_type": "stream",
     "text": [
      "142913828922\n"
     ]
    }
   ],
   "source": [
    "#Question 10\n",
    "def summation_of_primes(limit):\n",
    "    sieve = [True] * limit\n",
    "    sieve[0] = sieve[1] = False\n",
    "    for i in range(2, int(limit**0.5) + 1):\n",
    "        if sieve[i]:\n",
    "            for j in range(i*i, limit, i):\n",
    "                sieve[j] = False\n",
    "    return sum(i for i, is_prime in enumerate(sieve) if is_prime)\n",
    "\n",
    "print(summation_of_primes(2000000))"
   ]
  }
 ],
 "metadata": {
  "kernelspec": {
   "display_name": "Python 3",
   "language": "python",
   "name": "python3"
  },
  "language_info": {
   "codemirror_mode": {
    "name": "ipython",
    "version": 3
   },
   "file_extension": ".py",
   "mimetype": "text/x-python",
   "name": "python",
   "nbconvert_exporter": "python",
   "pygments_lexer": "ipython3",
   "version": "3.12.6"
  }
 },
 "nbformat": 4,
 "nbformat_minor": 5
}
