{
 "cells": [
  {
   "cell_type": "code",
   "execution_count": null,
   "id": "31369130",
   "metadata": {},
   "outputs": [
    {
     "name": "stdout",
     "output_type": "stream",
     "text": [
      "Hello, World!\n"
     ]
    }
   ],
   "source": [
    "#Question 1\n",
    "def multiplies_of_3_and_5(number):\n",
    "    total = 0\n",
    "    for i in range(number):\n",
    "        if i % 3 == 0 or i % 5 == 0:\n",
    "            total += i\n",
    "    return total\n",
    "\n",
    "print(multiplies_of_3_and_5(1000))"
   ]
  }
 ],
 "metadata": {
  "kernelspec": {
   "display_name": "Python 3",
   "language": "python",
   "name": "python3"
  },
  "language_info": {
   "codemirror_mode": {
    "name": "ipython",
    "version": 3
   },
   "file_extension": ".py",
   "mimetype": "text/x-python",
   "name": "python",
   "nbconvert_exporter": "python",
   "pygments_lexer": "ipython3",
   "version": "3.12.6"
  }
 },
 "nbformat": 4,
 "nbformat_minor": 5
}
